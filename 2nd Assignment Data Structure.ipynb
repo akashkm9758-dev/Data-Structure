{
  "nbformat": 4,
  "nbformat_minor": 0,
  "metadata": {
    "colab": {
      "provenance": []
    },
    "kernelspec": {
      "name": "python3",
      "display_name": "Python 3"
    },
    "language_info": {
      "name": "python"
    }
  },
  "cells": [
    {
      "cell_type": "markdown",
      "source": [
        "\n",
        "# **Practical Assignment**\n",
        "\n"
      ],
      "metadata": {
        "id": "Ag3mzQA-1hO7"
      }
    },
    {
      "cell_type": "markdown",
      "source": [
        "1. Write a code to create a string with your name and print it?"
      ],
      "metadata": {
        "id": "D8CNGwYl43AR"
      }
    },
    {
      "cell_type": "code",
      "source": [
        "name = input(\"enter the name: \")\n",
        "print(name)"
      ],
      "metadata": {
        "id": "tB2vsFEmG5SW",
        "colab": {
          "base_uri": "https://localhost:8080/"
        },
        "outputId": "827c9cdb-ad63-4897-96ec-8477327c4ae2"
      },
      "execution_count": 101,
      "outputs": [
        {
          "output_type": "stream",
          "name": "stdout",
          "text": [
            "enter the name: akash kumar singh\n",
            "akash kumar singh\n"
          ]
        }
      ]
    },
    {
      "cell_type": "markdown",
      "source": [
        "2. Write a code to find the length of the string \"Hello World\"?"
      ],
      "metadata": {
        "id": "M0SXBrZi5hJ2"
      }
    },
    {
      "cell_type": "code",
      "source": [
        "text = \"Hello World\"\n",
        "a = len(text)\n",
        "print(\"Length of the string:\", a)"
      ],
      "metadata": {
        "id": "9QWhMLAvG7kj",
        "colab": {
          "base_uri": "https://localhost:8080/"
        },
        "outputId": "9610dea8-e296-4ad2-92dd-81aabdbfc8e8"
      },
      "execution_count": 102,
      "outputs": [
        {
          "output_type": "stream",
          "name": "stdout",
          "text": [
            "Length of the string: 11\n"
          ]
        }
      ]
    },
    {
      "cell_type": "markdown",
      "source": [
        "3. Write a code to slice the first 3 characters from the string \"Python Programming\"?"
      ],
      "metadata": {
        "id": "XiYXCsX05iIl"
      }
    },
    {
      "cell_type": "code",
      "source": [
        "text = \"Python Programming\"\n",
        "a = text[:3]\n",
        "print(\"First 3 characters:\",a)"
      ],
      "metadata": {
        "id": "TVg2M3aSG7hJ",
        "colab": {
          "base_uri": "https://localhost:8080/"
        },
        "outputId": "7cc5288c-e3e7-49ee-a856-56c32e5666a4"
      },
      "execution_count": 103,
      "outputs": [
        {
          "output_type": "stream",
          "name": "stdout",
          "text": [
            "First 3 characters: Pyt\n"
          ]
        }
      ]
    },
    {
      "cell_type": "markdown",
      "source": [
        "4. Write a code to convert the string \"hello\" to uppercase?"
      ],
      "metadata": {
        "id": "c-iJyxHx5uo1"
      }
    },
    {
      "cell_type": "code",
      "source": [
        "a = \"hello\"\n",
        "uppercase = a.upper()\n",
        "print('''Uppercase \"hello\" :''', uppercase)"
      ],
      "metadata": {
        "id": "nRp05zkvG7eW",
        "colab": {
          "base_uri": "https://localhost:8080/"
        },
        "outputId": "21082f66-2b03-479a-df29-7791f4e139dc"
      },
      "execution_count": 104,
      "outputs": [
        {
          "output_type": "stream",
          "name": "stdout",
          "text": [
            "Uppercase \"hello\" : HELLO\n"
          ]
        }
      ]
    },
    {
      "cell_type": "markdown",
      "source": [
        "5. Write a code to replace the word \"apple\" with \"orange\" in the string \"I like apple\"?"
      ],
      "metadata": {
        "id": "u5JE9AAG5vgF"
      }
    },
    {
      "cell_type": "code",
      "source": [
        "a = \"I like apple\"\n",
        "b = a.replace(\"apple\", \"orange\")\n",
        "print(b)"
      ],
      "metadata": {
        "id": "_XQkxLclG7bK",
        "colab": {
          "base_uri": "https://localhost:8080/"
        },
        "outputId": "735371aa-9e80-446c-eca5-fbcf78c3bac3"
      },
      "execution_count": 105,
      "outputs": [
        {
          "output_type": "stream",
          "name": "stdout",
          "text": [
            "I like orange\n"
          ]
        }
      ]
    },
    {
      "cell_type": "markdown",
      "source": [
        "6. Write a code to create a list with numbers 1 to 5 and print it?"
      ],
      "metadata": {
        "id": "L8WM0Y0p5wHC"
      }
    },
    {
      "cell_type": "code",
      "source": [
        "a = [1, 2, 3, 4, 5]\n",
        "print(a)"
      ],
      "metadata": {
        "id": "kjV-4BhlG7Yr",
        "colab": {
          "base_uri": "https://localhost:8080/"
        },
        "outputId": "6af40408-c89f-4781-c46b-f24da33ed977"
      },
      "execution_count": 106,
      "outputs": [
        {
          "output_type": "stream",
          "name": "stdout",
          "text": [
            "[1, 2, 3, 4, 5]\n"
          ]
        }
      ]
    },
    {
      "cell_type": "markdown",
      "source": [
        "7. Write a code to append the number 10 to the list [1, 2, 3, 4]?"
      ],
      "metadata": {
        "id": "1XadmKza5xMh"
      }
    },
    {
      "cell_type": "code",
      "source": [
        "b = [1, 2, 3, 4]\n",
        "b.append(10)\n",
        "print(b)"
      ],
      "metadata": {
        "id": "p74gjQYyG7WG",
        "colab": {
          "base_uri": "https://localhost:8080/"
        },
        "outputId": "2d6ed389-afa8-4a97-e2ab-b87e090788e7"
      },
      "execution_count": 107,
      "outputs": [
        {
          "output_type": "stream",
          "name": "stdout",
          "text": [
            "[1, 2, 3, 4, 10]\n"
          ]
        }
      ]
    },
    {
      "cell_type": "markdown",
      "source": [
        "8. Write a code to remove the number 3 from the list [1, 2, 3, 4, 5]?"
      ],
      "metadata": {
        "id": "DiVVdq0k5xvM"
      }
    },
    {
      "cell_type": "code",
      "source": [
        "b = [1, 2, 3, 4, 5]\n",
        "b.remove(3)\n",
        "print(b)"
      ],
      "metadata": {
        "id": "qToipFknG7Ta",
        "colab": {
          "base_uri": "https://localhost:8080/"
        },
        "outputId": "036e8da5-c29a-4496-e569-9c340f0d733b"
      },
      "execution_count": 108,
      "outputs": [
        {
          "output_type": "stream",
          "name": "stdout",
          "text": [
            "[1, 2, 4, 5]\n"
          ]
        }
      ]
    },
    {
      "cell_type": "markdown",
      "source": [
        "9. Write a code to access the second element in the list ['a', 'b', 'c', 'd']?"
      ],
      "metadata": {
        "id": "FDUGENcY5yiY"
      }
    },
    {
      "cell_type": "code",
      "source": [
        "list1= ['a', 'b', 'c', 'd']\n",
        "print(list1[1])"
      ],
      "metadata": {
        "id": "sbC9BpCvG7Qr",
        "colab": {
          "base_uri": "https://localhost:8080/"
        },
        "outputId": "6c7d0d74-ca97-48c7-c7c8-7b402e61d9d3"
      },
      "execution_count": 109,
      "outputs": [
        {
          "output_type": "stream",
          "name": "stdout",
          "text": [
            "b\n"
          ]
        }
      ]
    },
    {
      "cell_type": "markdown",
      "source": [
        "10. Write a code to reverse the list [10, 20, 30, 40, 50]?"
      ],
      "metadata": {
        "id": "EydkI3J150hB"
      }
    },
    {
      "cell_type": "code",
      "source": [
        "number = [10, 20, 30, 40, 50]\n",
        "number.reverse()\n",
        "print(number)"
      ],
      "metadata": {
        "id": "Q41qCVwiG7NU",
        "colab": {
          "base_uri": "https://localhost:8080/"
        },
        "outputId": "09c0fd00-8ad0-4be6-90b2-c0e32885005f"
      },
      "execution_count": 110,
      "outputs": [
        {
          "output_type": "stream",
          "name": "stdout",
          "text": [
            "[50, 40, 30, 20, 10]\n"
          ]
        }
      ]
    },
    {
      "cell_type": "markdown",
      "source": [
        "11. Write a code to create a tuple with the elements 100, 200, 300 and print it."
      ],
      "metadata": {
        "id": "pYnFLnJV51LB"
      }
    },
    {
      "cell_type": "code",
      "source": [
        "numbers = (100, 200, 300)\n",
        "print(numbers)"
      ],
      "metadata": {
        "id": "Vqn7B3YpG7Kg",
        "colab": {
          "base_uri": "https://localhost:8080/"
        },
        "outputId": "eb73de9a-ad7f-492b-b0b3-863c6c4187b3"
      },
      "execution_count": 111,
      "outputs": [
        {
          "output_type": "stream",
          "name": "stdout",
          "text": [
            "(100, 200, 300)\n"
          ]
        }
      ]
    },
    {
      "cell_type": "markdown",
      "source": [
        "12. Write a code to access the second-to-last element of the tuple ('red', 'green', 'blue', 'yellow')."
      ],
      "metadata": {
        "id": "qv889L7752BX"
      }
    },
    {
      "cell_type": "code",
      "source": [
        "color = ('red', 'green', 'blue', 'yellow')\n",
        "second_last_element = color[-2]\n",
        "print(second_last_element)"
      ],
      "metadata": {
        "id": "ERSZ7P8-G7Hy",
        "colab": {
          "base_uri": "https://localhost:8080/"
        },
        "outputId": "a1e50843-6949-4c67-b2b6-6df1c072f81c"
      },
      "execution_count": 112,
      "outputs": [
        {
          "output_type": "stream",
          "name": "stdout",
          "text": [
            "blue\n"
          ]
        }
      ]
    },
    {
      "cell_type": "markdown",
      "source": [
        "13. Write a code to find the minimum number in the tuple (10, 20, 5, 15)."
      ],
      "metadata": {
        "id": "qk_5QIXi52zE"
      }
    },
    {
      "cell_type": "code",
      "source": [
        "numbers = (10, 20, 5, 15)\n",
        "minimum_value = numbers[0]\n",
        "for num in numbers:\n",
        "    if num < minimum_value:\n",
        "        minimum_value = num\n",
        "print(\"Minimum number:\", minimum_value)"
      ],
      "metadata": {
        "id": "a9YP1556G7D6",
        "colab": {
          "base_uri": "https://localhost:8080/"
        },
        "outputId": "af5ff043-2ab6-470c-b473-20dfb2ce3836"
      },
      "execution_count": 113,
      "outputs": [
        {
          "output_type": "stream",
          "name": "stdout",
          "text": [
            "Minimum number: 5\n"
          ]
        }
      ]
    },
    {
      "cell_type": "markdown",
      "source": [
        "14. Write a code to find the index of the element \"cat\" in the tuple ('dog', 'cat', 'rabbit')."
      ],
      "metadata": {
        "id": "5a1_G1R153dT"
      }
    },
    {
      "cell_type": "code",
      "source": [
        "animals = ('dog', 'cat', 'rabbit')\n",
        "cat = animals.index('cat')\n",
        "print(\"Index of 'cat':\", cat)"
      ],
      "metadata": {
        "id": "6SBBjW6dG7B3",
        "colab": {
          "base_uri": "https://localhost:8080/"
        },
        "outputId": "4c39928f-0842-40d1-e7d9-22ed703ff290"
      },
      "execution_count": 114,
      "outputs": [
        {
          "output_type": "stream",
          "name": "stdout",
          "text": [
            "Index of 'cat': 1\n"
          ]
        }
      ]
    },
    {
      "cell_type": "markdown",
      "source": [
        "15. Write a code to create a tuple containing three different fruits and check if \"kiwi\" is in it."
      ],
      "metadata": {
        "id": "nu-YHLIK53_2"
      }
    },
    {
      "cell_type": "code",
      "source": [
        "fruits = (\"apple\", \"banana\", \"mango\")\n",
        "if \"kiwi\" in fruits:\n",
        "    print(\"Kiwi is in the tuple\")\n",
        "else:\n",
        "    print(\"Kiwi is not in the tuple\")"
      ],
      "metadata": {
        "id": "bvOOGiUXG6_z",
        "colab": {
          "base_uri": "https://localhost:8080/"
        },
        "outputId": "c8853097-01eb-4117-a2c8-2c0a5bea359a"
      },
      "execution_count": 115,
      "outputs": [
        {
          "output_type": "stream",
          "name": "stdout",
          "text": [
            "Kiwi is not in the tuple\n"
          ]
        }
      ]
    },
    {
      "cell_type": "markdown",
      "source": [
        "16. Write a code to create a set with the elements 'a', 'b', 'c' and print it."
      ],
      "metadata": {
        "id": "wwINF3_y54q6"
      }
    },
    {
      "cell_type": "code",
      "source": [
        "letters = {'a', 'b', 'c'}\n",
        "print(letters)"
      ],
      "metadata": {
        "id": "TLJI1-DsG680",
        "colab": {
          "base_uri": "https://localhost:8080/"
        },
        "outputId": "8183a147-1870-4672-8473-e04af80b0afb"
      },
      "execution_count": 116,
      "outputs": [
        {
          "output_type": "stream",
          "name": "stdout",
          "text": [
            "{'a', 'c', 'b'}\n"
          ]
        }
      ]
    },
    {
      "cell_type": "markdown",
      "source": [
        "17. Write a code to clear all elements from the set {1, 2, 3, 4, 5}."
      ],
      "metadata": {
        "id": "1Mtv_V3G56qd"
      }
    },
    {
      "cell_type": "code",
      "source": [
        "numbers = {1, 2, 3, 4, 5}\n",
        "numbers.clear()\n",
        "print(numbers)"
      ],
      "metadata": {
        "id": "StU3KR67G656",
        "colab": {
          "base_uri": "https://localhost:8080/"
        },
        "outputId": "c709c623-01f2-440c-dd1e-06117803e186"
      },
      "execution_count": 117,
      "outputs": [
        {
          "output_type": "stream",
          "name": "stdout",
          "text": [
            "set()\n"
          ]
        }
      ]
    },
    {
      "cell_type": "markdown",
      "source": [
        "18. Write a code to remove the element 4 from the set {1, 2, 3, 4}."
      ],
      "metadata": {
        "id": "ijvxPjFg57P7"
      }
    },
    {
      "cell_type": "code",
      "source": [
        "numbers = {1, 2, 3, 4}\n",
        "numbers.remove(4)\n",
        "print(numbers)"
      ],
      "metadata": {
        "id": "qpGYy2NVG63X",
        "colab": {
          "base_uri": "https://localhost:8080/"
        },
        "outputId": "41a50fa1-6a17-434f-8050-ee69575dd972"
      },
      "execution_count": 118,
      "outputs": [
        {
          "output_type": "stream",
          "name": "stdout",
          "text": [
            "{1, 2, 3}\n"
          ]
        }
      ]
    },
    {
      "cell_type": "markdown",
      "source": [
        "19. Write a code to find the union of two sets {1, 2, 3} and {3, 4, 5}."
      ],
      "metadata": {
        "id": "mxFImzxR58Lc"
      }
    },
    {
      "cell_type": "code",
      "source": [
        "set1 = {1, 2, 3}\n",
        "set2 = {3, 4, 5}\n",
        "union_set = set1|set2\n",
        "print(\"Union:\", union_set)"
      ],
      "metadata": {
        "id": "ksyZj3s-G6pt",
        "colab": {
          "base_uri": "https://localhost:8080/"
        },
        "outputId": "ba6664b7-70a9-4d5c-8a85-55d200ca19ba"
      },
      "execution_count": 119,
      "outputs": [
        {
          "output_type": "stream",
          "name": "stdout",
          "text": [
            "Union: {1, 2, 3, 4, 5}\n"
          ]
        }
      ]
    },
    {
      "cell_type": "markdown",
      "source": [
        "20. Write a code to find the intersection of two sets {1, 2, 3} and {2, 3, 4}."
      ],
      "metadata": {
        "id": "aBEIBBXD583Q"
      }
    },
    {
      "cell_type": "code",
      "source": [
        "set1 = {1, 2, 3}\n",
        "set2 = {2, 3, 4}\n",
        "intersection_set = set1&set2\n",
        "print(\"Intersection:\", intersection_set)"
      ],
      "metadata": {
        "colab": {
          "base_uri": "https://localhost:8080/"
        },
        "id": "7qoGVU2daq9F",
        "outputId": "bad61121-5a5d-44d7-e83d-5ddfae327c66"
      },
      "execution_count": 120,
      "outputs": [
        {
          "output_type": "stream",
          "name": "stdout",
          "text": [
            "Intersection: {2, 3}\n"
          ]
        }
      ]
    },
    {
      "cell_type": "markdown",
      "source": [
        "21. Write a code to create a dictionary with the keys \"name\", \"age\", and \"city\", and print it."
      ],
      "metadata": {
        "id": "niUk6FJ28ZEY"
      }
    },
    {
      "cell_type": "code",
      "source": [
        "person = {\n",
        "    \"name\": \"Akash\",\n",
        "    \"age\": 27,\n",
        "    \"city\": \"Delhi\"\n",
        "}\n",
        "print(person)"
      ],
      "metadata": {
        "colab": {
          "base_uri": "https://localhost:8080/"
        },
        "id": "siYjyp_Yaq7O",
        "outputId": "af919501-8a48-4977-8976-9ecd6c6127d5"
      },
      "execution_count": 121,
      "outputs": [
        {
          "output_type": "stream",
          "name": "stdout",
          "text": [
            "{'name': 'Akash', 'age': 27, 'city': 'Delhi'}\n"
          ]
        }
      ]
    },
    {
      "cell_type": "markdown",
      "source": [
        "22. Write a code to add a new key-value pair \"country\": \"USA\" to the dictionary {'name': 'John', 'age': 25}."
      ],
      "metadata": {
        "id": "_XfTFCoJ8cbK"
      }
    },
    {
      "cell_type": "code",
      "source": [
        "person = {'name': 'John', 'age': 25}\n",
        "person['country'] = 'USA'\n",
        "print(person)"
      ],
      "metadata": {
        "colab": {
          "base_uri": "https://localhost:8080/"
        },
        "id": "0HgZUTgUaq4J",
        "outputId": "b3ba2cbf-f35e-4cc7-d23a-2fe92d8b9cd4"
      },
      "execution_count": 122,
      "outputs": [
        {
          "output_type": "stream",
          "name": "stdout",
          "text": [
            "{'name': 'John', 'age': 25, 'country': 'USA'}\n"
          ]
        }
      ]
    },
    {
      "cell_type": "markdown",
      "source": [
        "23. Write a code to access the value associated with the key \"name\" in the dictionary {'name': 'Alice', 'age': 30}."
      ],
      "metadata": {
        "id": "fr-8UVs_8gt1"
      }
    },
    {
      "cell_type": "code",
      "source": [
        "person = {'name': 'Alice', 'age': 30}\n",
        "name_value = person['name']\n",
        "print(\"Name:\", name_value)"
      ],
      "metadata": {
        "colab": {
          "base_uri": "https://localhost:8080/"
        },
        "id": "-yHUj_a1aq2b",
        "outputId": "69ac2033-2f13-43c4-a40a-d56d9b30deeb"
      },
      "execution_count": 123,
      "outputs": [
        {
          "output_type": "stream",
          "name": "stdout",
          "text": [
            "Name: Alice\n"
          ]
        }
      ]
    },
    {
      "cell_type": "markdown",
      "source": [
        "24. Write a code to remove the key \"age\" from the dictionary {'name': 'Bob', 'age': 22, 'city': 'New York'}."
      ],
      "metadata": {
        "id": "FGg45RpL8j3J"
      }
    },
    {
      "cell_type": "code",
      "source": [
        "person = {'name': 'Bob', 'age': 22, 'city': 'New York'}\n",
        "person.pop('age')\n",
        "print(person)"
      ],
      "metadata": {
        "colab": {
          "base_uri": "https://localhost:8080/"
        },
        "id": "nh2gISFnaqyn",
        "outputId": "1c2b790d-73cd-460a-8856-5d104e8a0e45"
      },
      "execution_count": 124,
      "outputs": [
        {
          "output_type": "stream",
          "name": "stdout",
          "text": [
            "{'name': 'Bob', 'city': 'New York'}\n"
          ]
        }
      ]
    },
    {
      "cell_type": "markdown",
      "source": [
        "25. Write a code to check if the key \"city\" exists in the dictionary {'name': 'Alice', 'city': 'Paris'}."
      ],
      "metadata": {
        "id": "5dEzqUs-8xpp"
      }
    },
    {
      "cell_type": "code",
      "source": [
        "person = {'name': 'Alice', 'city': 'Paris'}\n",
        "if 'city' in person:\n",
        "    print(\"Key 'city' exists in the dictionary\")\n",
        "else:\n",
        "    print(\"Key 'city' does not exist in the dictionary\")"
      ],
      "metadata": {
        "colab": {
          "base_uri": "https://localhost:8080/"
        },
        "id": "7MJJKvR7aqvJ",
        "outputId": "dcf1e0bb-9510-4bfe-c883-b8a29f66a7ba"
      },
      "execution_count": 125,
      "outputs": [
        {
          "output_type": "stream",
          "name": "stdout",
          "text": [
            "Key 'city' exists in the dictionary\n"
          ]
        }
      ]
    },
    {
      "cell_type": "markdown",
      "source": [
        "26. Write a code to create a list, a tuple, and a dictionary, and print them all."
      ],
      "metadata": {
        "id": "5pgTe8L980MU"
      }
    },
    {
      "cell_type": "code",
      "source": [
        "\n",
        "my_list = [1, 2, 3]\n",
        "my_tuple = (4, 5, 6)\n",
        "my_dict = {\"name\": \"Akash\", \"age\": 27}\n",
        "print(\"List:\", my_list)\n",
        "print(\"Tuple:\", my_tuple)\n",
        "print(\"Dictionary:\", my_dict)"
      ],
      "metadata": {
        "colab": {
          "base_uri": "https://localhost:8080/"
        },
        "id": "GajHmxwdaqtb",
        "outputId": "c1a936c6-de6a-4044-ed80-5f85f47059cf"
      },
      "execution_count": 126,
      "outputs": [
        {
          "output_type": "stream",
          "name": "stdout",
          "text": [
            "List: [1, 2, 3]\n",
            "Tuple: (4, 5, 6)\n",
            "Dictionary: {'name': 'Akash', 'age': 27}\n"
          ]
        }
      ]
    },
    {
      "cell_type": "markdown",
      "source": [
        "27. Write a code to create a list of 5 random numbers between 1 and 100, sort it in ascending order, and print the result.(replaced)"
      ],
      "metadata": {
        "id": "irfJqipw8tn6"
      }
    },
    {
      "cell_type": "code",
      "source": [
        "import random\n",
        "random_numbers = [random.randint(1, 100) for _ in range(5)]\n",
        "random_numbers.sort()\n",
        "print(\"Sorted random numbers:\", random_numbers)"
      ],
      "metadata": {
        "colab": {
          "base_uri": "https://localhost:8080/"
        },
        "id": "f-vTPLfoaqrZ",
        "outputId": "c0ebe9bf-04d6-45c7-8aa6-72a137e867e9"
      },
      "execution_count": 127,
      "outputs": [
        {
          "output_type": "stream",
          "name": "stdout",
          "text": [
            "Sorted random numbers: [7, 7, 58, 73, 85]\n"
          ]
        }
      ]
    },
    {
      "cell_type": "markdown",
      "source": [
        "28. Write a code to create a list with strings and print the element at the third index."
      ],
      "metadata": {
        "id": "fQs5wwXh87ne"
      }
    },
    {
      "cell_type": "code",
      "source": [
        "fruits = [\"apple\", \"banana\", \"cherry\", \"date\", \"mango\"]\n",
        "print(\"Element at index 3:\", fruits[3])"
      ],
      "metadata": {
        "colab": {
          "base_uri": "https://localhost:8080/"
        },
        "id": "rbxg2xqHaqoG",
        "outputId": "f002248f-4247-46d9-cbca-9aee65efa3cc"
      },
      "execution_count": 128,
      "outputs": [
        {
          "output_type": "stream",
          "name": "stdout",
          "text": [
            "Element at index 3: date\n"
          ]
        }
      ]
    },
    {
      "cell_type": "markdown",
      "source": [
        "29. Write a code to combine two dictionaries into one and print the result."
      ],
      "metadata": {
        "id": "mS3owuma89uB"
      }
    },
    {
      "cell_type": "code",
      "source": [
        "dict1 = {\"a\": 1, \"b\": 2}\n",
        "dict2 = {\"c\": 3, \"d\": 4}\n",
        "combined_dict = {**dict1, **dict2}\n",
        "print(\"Combined dictionary:\", combined_dict)"
      ],
      "metadata": {
        "colab": {
          "base_uri": "https://localhost:8080/"
        },
        "id": "oYHSOYjXaqjn",
        "outputId": "25a471f2-12be-4464-8d18-5bd4f3d896a8"
      },
      "execution_count": 129,
      "outputs": [
        {
          "output_type": "stream",
          "name": "stdout",
          "text": [
            "Combined dictionary: {'a': 1, 'b': 2, 'c': 3, 'd': 4}\n"
          ]
        }
      ]
    },
    {
      "cell_type": "markdown",
      "source": [
        "30. Write a code to convert a list of strings into a set."
      ],
      "metadata": {
        "id": "czyq5p9q8_Ox"
      }
    },
    {
      "cell_type": "code",
      "source": [
        "fruits_list = [\"apple\", \"banana\", \"apple\", \"mango\"]\n",
        "fruits_set = set(fruits_list)\n",
        "print(\"Set:\", fruits_set)"
      ],
      "metadata": {
        "colab": {
          "base_uri": "https://localhost:8080/"
        },
        "id": "Ua50nFUUaqeo",
        "outputId": "e9b9c778-a465-4f09-e3e8-c20f946f7efa"
      },
      "execution_count": 130,
      "outputs": [
        {
          "output_type": "stream",
          "name": "stdout",
          "text": [
            "Set: {'banana', 'mango', 'apple'}\n"
          ]
        }
      ]
    }
  ]
}