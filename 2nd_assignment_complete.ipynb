{
  "nbformat": 4,
  "nbformat_minor": 0,
  "metadata": {
    "colab": {
      "provenance": []
    },
    "kernelspec": {
      "name": "python3",
      "display_name": "Python 3"
    },
    "language_info": {
      "name": "python"
    }
  },
  "cells": [
    {
      "cell_type": "markdown",
      "source": [
        "1. What are data structures, and why are they important?\n",
        "- Data structures are methods of organizing and storing data in a computer so it can be used effectively. They are important because they allow efficient data access, modification, and storage. Proper use of data structures improves program performance, reduces complexity, and helps in solving problems like searching, sorting, and managing large datasets.\n",
        "2.  Explain the difference between mutable and immutable data types with examples?\n",
        "- Mutable data types can be changed after creation (e.g., lists, dictionaries), while immutable data types cannot be changed once created (e.g., tuples, strings, integers).\n",
        "3. What are the main differences between lists and tuples in Python?\n",
        "- Lists ([ ]) are mutable, slower, and allow modification of elements, while tuples (( )) are immutable, faster, and often used for fixed data.\n",
        "4. Describe how dictionaries store data?\n",
        "- A dictionary in Python stores data as unordered key–value pairs inside { }. Keys must be unique and immutable, while values can be of any type. Example: {\"id\": 1, \"name\": \"Alex\"}.\n",
        "5. Why might you use a set instead of a list in Python?\n",
        "- Sets are used when duplicates must be avoided and order is not important. They also provide faster membership testing (in operator) compared to lists.\n",
        "6. What is a string in Python, and how is it different from a list?\n",
        "- A string is a collection of characters written in single, double, or triple quotes. Unlike lists, strings are immutable, meaning their characters cannot be changed, while lists are mutable and allow modification of elements.\n",
        "7. How do tuples ensure data integrity in Python?\n",
        "- Tuples are immutable, so their elements cannot be changed after creation. This ensures that the data inside a tuple remains constant and safe from accidental modification.\n",
        "8. What is a hash table, and how does it relate to dictionaries in Python?\n",
        "- A hash table is a data structure that stores data in key–value pairs for fast lookup. Python dictionaries are implemented using hash tables.\n",
        "9. Can lists contain different data types in Python?\n",
        "- Lists in Python are heterogeneous, meaning they can store items of different types such as integers, strings, floats, or even other lists.\n",
        "Example: [1, \"Alice\", 3.14, [2, 4]]\n",
        "10. Explain why strings are immutable in Python?\n",
        "- Strings are immutable in Python, meaning they cannot be changed after creation. This ensures data integrity and allows strings to be used safely as dictionary keys or set elements.\n",
        "11. What advantages do dictionaries offer over lists for certain tasks?\n",
        "- Dictionaries store data as key–value pairs, allowing direct access to values using keys, which is faster than searching a list. They are ideal when data needs to be accessed, updated, or removed quickly by a unique identifier.\n",
        "12. Describe a scenario where using a tuple would be preferable over a list?\n",
        "- Tuples are used when the data is constant and should remain unchanged. They are also faster and memory-efficient compared to lists.\n",
        "Example: Storing coordinates of a point (x, y) as (10, 20).\n",
        "13. How do sets handle duplicate values in Python?\n",
        "- Sets automatically remove duplicate values, so only unique elements are stored.\n",
        "14. How does the “in” keyword work differently for lists and dictionaries?\n",
        "- For lists, in checks if a value exists in the list.For dictionaries, in checks if a key exists in the dictionary.\n",
        "15. Can you modify the elements of a tuple? Explain why or why not?\n",
        "- Tuples are immutable sequences, so you cannot change, add, or remove elements once the tuple is created. This ensures the data remains constant.\n",
        "16. What is a nested dictionary, and give an example of its use case?\n",
        "- A nested dictionary stores dictionaries inside a dictionary. It is useful for organizing complex, hierarchical data.\n",
        "Example:\n",
        "\n",
        "      student = {\n",
        "                  \"101\": {\"name\": \"Alice\", \"age\": 20},\n",
        "                  \"102\": {\"name\": \"Bob\", \"age\": 22}\n",
        "                }\n",
        "print(student[\"101\"][\"name\"])  # Output: Alice\n",
        "\n",
        "17. Describe the time complexity of accessing elements in a dictionary?\n",
        "- Python dictionaries use a hash table internally. Accessing a value by its key is very fast (average O(1)), regardless of the dictionary size, because the key is hashed to directly locate the value.\n",
        "-\n",
        "18. In what situations are lists preferred over dictionaries?\n",
        "- Lists are preferred when you need an ordered collection of items and fast index-based access.\n",
        "19. Why are dictionaries considered unordered, and how does that affect data retrieval?\n",
        "- Dictionaries store key–value pairs in a hash table, so the order of items is not guaranteed (Python 3.6–). Retrieval is done using keys, not indexes. This allows fast access, but you cannot rely on element order.\n",
        "20. Explain the difference between a list and a dictionary in terms of data retrieval?\n",
        "- List: Ordered collection; elements are retrieved using their position (index). Searching for a specific value requir es scanning the list (O(n) time).\n",
        "Dictionary: Unordered collection of key–value pairs; elements are retrieved using keys, providing O(1) average-time lookup."
      ],
      "metadata": {
        "id": "MgmBX_kY03Zi"
      }
    },
    {
      "cell_type": "markdown",
      "source": [
        "\n",
        "# **Practical Assignment**\n",
        "\n"
      ],
      "metadata": {
        "id": "Ag3mzQA-1hO7"
      }
    },
    {
      "cell_type": "markdown",
      "source": [
        "1. Write a code to create a string with your name and print it?"
      ],
      "metadata": {
        "id": "D8CNGwYl43AR"
      }
    },
    {
      "cell_type": "code",
      "source": [
        "# 1\n",
        "# Create a string with your name\n",
        "name = \"Akash Kumar\"\n",
        "\n",
        "# Print the string\n",
        "print(name)"
      ],
      "metadata": {
        "id": "tB2vsFEmG5SW",
        "colab": {
          "base_uri": "https://localhost:8080/"
        },
        "outputId": "477f326b-bb96-4951-94d0-cd69252b79fb"
      },
      "execution_count": null,
      "outputs": [
        {
          "output_type": "stream",
          "name": "stdout",
          "text": [
            "Akash Kumar\n"
          ]
        }
      ]
    },
    {
      "cell_type": "markdown",
      "source": [
        "2. Write a code to find the length of the string \"Hello World\"?"
      ],
      "metadata": {
        "id": "M0SXBrZi5hJ2"
      }
    },
    {
      "cell_type": "code",
      "source": [
        "# 2\n",
        "text = \"Hello World\"\n",
        "\n",
        "# Find the length of the string\n",
        "length = len(text)\n",
        "\n",
        "# Print the result\n",
        "print(\"Length of the string:\", length)"
      ],
      "metadata": {
        "id": "9QWhMLAvG7kj",
        "colab": {
          "base_uri": "https://localhost:8080/"
        },
        "outputId": "9295774a-f7f6-4878-c4f8-b9373cfbde35"
      },
      "execution_count": null,
      "outputs": [
        {
          "output_type": "stream",
          "name": "stdout",
          "text": [
            "Length of the string: 11\n"
          ]
        }
      ]
    },
    {
      "cell_type": "markdown",
      "source": [
        "3. Write a code to slice the first 3 characters from the string \"Python Programming\"?"
      ],
      "metadata": {
        "id": "XiYXCsX05iIl"
      }
    },
    {
      "cell_type": "code",
      "source": [
        "# 3\n",
        "# Create a string\n",
        "text = \"Python Programming\"\n",
        "\n",
        "# Slice the first 3 characters\n",
        "sliced_text = text[:3]\n",
        "\n",
        "# Print the result\n",
        "print(\"First 3 characters:\", sliced_text)"
      ],
      "metadata": {
        "id": "TVg2M3aSG7hJ",
        "colab": {
          "base_uri": "https://localhost:8080/"
        },
        "outputId": "500d874c-972e-42d9-f435-cace6c749cfb"
      },
      "execution_count": null,
      "outputs": [
        {
          "output_type": "stream",
          "name": "stdout",
          "text": [
            "First 3 characters: Pyt\n"
          ]
        }
      ]
    },
    {
      "cell_type": "markdown",
      "source": [
        "4. Write a code to convert the string \"hello\" to uppercase?"
      ],
      "metadata": {
        "id": "c-iJyxHx5uo1"
      }
    },
    {
      "cell_type": "code",
      "source": [
        "# 4\n",
        "# Create a string\n",
        "text = \"hello\"\n",
        "\n",
        "# Convert to uppercase\n",
        "uppercase_text = text.upper()\n",
        "\n",
        "# Print the result\n",
        "print(\"Uppercase:\", uppercase_text)"
      ],
      "metadata": {
        "id": "nRp05zkvG7eW",
        "colab": {
          "base_uri": "https://localhost:8080/"
        },
        "outputId": "354814bc-e280-4834-8a95-b5278a471a5b"
      },
      "execution_count": null,
      "outputs": [
        {
          "output_type": "stream",
          "name": "stdout",
          "text": [
            "Uppercase: HELLO\n"
          ]
        }
      ]
    },
    {
      "cell_type": "markdown",
      "source": [
        "5. Write a code to replace the word \"apple\" with \"orange\" in the string \"I like apple\"?"
      ],
      "metadata": {
        "id": "u5JE9AAG5vgF"
      }
    },
    {
      "cell_type": "code",
      "source": [
        "# 5\n",
        "# Original string\n",
        "text = \"I like apple\"\n",
        "\n",
        "# Replace 'apple' with 'orange'\n",
        "new_text = text.replace(\"apple\", \"orange\")\n",
        "\n",
        "# Print the result\n",
        "print(new_text)"
      ],
      "metadata": {
        "id": "_XQkxLclG7bK",
        "colab": {
          "base_uri": "https://localhost:8080/"
        },
        "outputId": "09f215b9-2e98-455d-9e3e-0acbe9f99e0d"
      },
      "execution_count": null,
      "outputs": [
        {
          "output_type": "stream",
          "name": "stdout",
          "text": [
            "I like orange\n"
          ]
        }
      ]
    },
    {
      "cell_type": "markdown",
      "source": [
        "6. Write a code to create a list with numbers 1 to 5 and print it?"
      ],
      "metadata": {
        "id": "L8WM0Y0p5wHC"
      }
    },
    {
      "cell_type": "code",
      "source": [
        "# 6\n",
        "numbers = [1, 2, 3, 4, 5]\n",
        "\n",
        "# Print the list\n",
        "print(numbers)"
      ],
      "metadata": {
        "id": "kjV-4BhlG7Yr",
        "colab": {
          "base_uri": "https://localhost:8080/"
        },
        "outputId": "5e51be87-1092-42f6-a76e-9aa1a080138f"
      },
      "execution_count": null,
      "outputs": [
        {
          "output_type": "stream",
          "name": "stdout",
          "text": [
            "[1, 2, 3, 4, 5]\n"
          ]
        }
      ]
    },
    {
      "cell_type": "markdown",
      "source": [
        "7. Write a code to append the number 10 to the list [1, 2, 3, 4]?"
      ],
      "metadata": {
        "id": "1XadmKza5xMh"
      }
    },
    {
      "cell_type": "code",
      "source": [
        "# 7.\n",
        "numbers = [1, 2, 3, 4]\n",
        "\n",
        "# Append 10 to the list\n",
        "numbers.append(10)\n",
        "\n",
        "# Print the updated list\n",
        "print(numbers)"
      ],
      "metadata": {
        "id": "p74gjQYyG7WG",
        "colab": {
          "base_uri": "https://localhost:8080/"
        },
        "outputId": "411f99ad-59a0-4f33-c9d9-4480b9df3664"
      },
      "execution_count": null,
      "outputs": [
        {
          "output_type": "stream",
          "name": "stdout",
          "text": [
            "[1, 2, 3, 4, 10]\n"
          ]
        }
      ]
    },
    {
      "cell_type": "markdown",
      "source": [
        "8. Write a code to remove the number 3 from the list [1, 2, 3, 4, 5]?"
      ],
      "metadata": {
        "id": "DiVVdq0k5xvM"
      }
    },
    {
      "cell_type": "code",
      "source": [
        "# 8\n",
        "numbers = [1, 2, 3, 4, 5]\n",
        "\n",
        "# Remove the number 3\n",
        "numbers.remove(3)\n",
        "\n",
        "# Print the updated list\n",
        "print(numbers)"
      ],
      "metadata": {
        "id": "qToipFknG7Ta",
        "colab": {
          "base_uri": "https://localhost:8080/"
        },
        "outputId": "ac66c7a3-1c47-45d5-abd4-848b180844a2"
      },
      "execution_count": null,
      "outputs": [
        {
          "output_type": "stream",
          "name": "stdout",
          "text": [
            "[1, 2, 4, 5]\n"
          ]
        }
      ]
    },
    {
      "cell_type": "markdown",
      "source": [
        "9. Write a code to access the second element in the list ['a', 'b', 'c', 'd']?"
      ],
      "metadata": {
        "id": "FDUGENcY5yiY"
      }
    },
    {
      "cell_type": "code",
      "source": [
        "# 9\n",
        "# Initial list\n",
        "letters = ['a', 'b', 'c', 'd']\n",
        "\n",
        "# Access the second element (index 1)\n",
        "print(letters[1])"
      ],
      "metadata": {
        "id": "sbC9BpCvG7Qr",
        "colab": {
          "base_uri": "https://localhost:8080/"
        },
        "outputId": "e65c1da7-601a-4f71-80a5-56cca6fa1774"
      },
      "execution_count": null,
      "outputs": [
        {
          "output_type": "stream",
          "name": "stdout",
          "text": [
            "b\n"
          ]
        }
      ]
    },
    {
      "cell_type": "markdown",
      "source": [
        "10. Write a code to reverse the list [10, 20, 30, 40, 50]?"
      ],
      "metadata": {
        "id": "EydkI3J150hB"
      }
    },
    {
      "cell_type": "code",
      "source": [
        "# 10\n",
        "# Initial list\n",
        "numbers = [10, 20, 30, 40, 50]\n",
        "\n",
        "# Reverse the list\n",
        "numbers.reverse()\n",
        "\n",
        "# Print the reversed list\n",
        "print(numbers)"
      ],
      "metadata": {
        "id": "Q41qCVwiG7NU",
        "colab": {
          "base_uri": "https://localhost:8080/"
        },
        "outputId": "b45e41d9-6518-4236-dc93-8ccbabea0156"
      },
      "execution_count": null,
      "outputs": [
        {
          "output_type": "stream",
          "name": "stdout",
          "text": [
            "[50, 40, 30, 20, 10]\n"
          ]
        }
      ]
    },
    {
      "cell_type": "markdown",
      "source": [
        "11. Write a code to create a tuple with the elements 100, 200, 300 and print it."
      ],
      "metadata": {
        "id": "pYnFLnJV51LB"
      }
    },
    {
      "cell_type": "code",
      "source": [
        "# 11\n",
        "# Create a tuple\n",
        "numbers = (100, 200, 300)\n",
        "\n",
        "# Print the tuple\n",
        "print(numbers)"
      ],
      "metadata": {
        "id": "Vqn7B3YpG7Kg",
        "colab": {
          "base_uri": "https://localhost:8080/"
        },
        "outputId": "27181def-2da1-45da-c0c3-303abc41f62f"
      },
      "execution_count": null,
      "outputs": [
        {
          "output_type": "stream",
          "name": "stdout",
          "text": [
            "(100, 200, 300)\n"
          ]
        }
      ]
    },
    {
      "cell_type": "markdown",
      "source": [
        "12. Write a code to access the second-to-last element of the tuple ('red', 'green', 'blue', 'yellow')."
      ],
      "metadata": {
        "id": "qv889L7752BX"
      }
    },
    {
      "cell_type": "code",
      "source": [
        "# 12\n",
        "# Create a tuple\n",
        "colors = ('red', 'green', 'blue', 'yellow')\n",
        "\n",
        "# Access the second-to-last element using negative indexing\n",
        "second_last = colors[-2]\n",
        "\n",
        "# Print the result\n",
        "print(second_last)"
      ],
      "metadata": {
        "id": "ERSZ7P8-G7Hy",
        "colab": {
          "base_uri": "https://localhost:8080/"
        },
        "outputId": "350fd0ff-95cd-4f07-8de1-42ab3c9e3def"
      },
      "execution_count": null,
      "outputs": [
        {
          "output_type": "stream",
          "name": "stdout",
          "text": [
            "blue\n"
          ]
        }
      ]
    },
    {
      "cell_type": "markdown",
      "source": [
        "13. Write a code to find the minimum number in the tuple (10, 20, 5, 15)."
      ],
      "metadata": {
        "id": "qk_5QIXi52zE"
      }
    },
    {
      "cell_type": "code",
      "source": [
        "# 13\n",
        "numbers = (10, 20, 5, 15)\n",
        "\n",
        "# Find the minimum number\n",
        "minimum = min(numbers)\n",
        "\n",
        "# Print the result\n",
        "print(\"Minimum number:\", minimum)"
      ],
      "metadata": {
        "id": "a9YP1556G7D6",
        "colab": {
          "base_uri": "https://localhost:8080/"
        },
        "outputId": "a5709f7c-35d5-45a2-e9a0-44182e42ac5a"
      },
      "execution_count": null,
      "outputs": [
        {
          "output_type": "stream",
          "name": "stdout",
          "text": [
            "Minimum number: 5\n"
          ]
        }
      ]
    },
    {
      "cell_type": "markdown",
      "source": [
        "14. Write a code to find the index of the element \"cat\" in the tuple ('dog', 'cat', 'rabbit')."
      ],
      "metadata": {
        "id": "5a1_G1R153dT"
      }
    },
    {
      "cell_type": "code",
      "source": [
        "# 14\n",
        "animals = ('dog', 'cat', 'rabbit')\n",
        "\n",
        "# Find the index of \"cat\"\n",
        "index_cat = animals.index('cat')\n",
        "\n",
        "# Print the result\n",
        "print(\"Index of 'cat':\", index_cat)"
      ],
      "metadata": {
        "id": "6SBBjW6dG7B3",
        "colab": {
          "base_uri": "https://localhost:8080/"
        },
        "outputId": "af46e8ff-8c1a-48af-f37c-13c16f586014"
      },
      "execution_count": null,
      "outputs": [
        {
          "output_type": "stream",
          "name": "stdout",
          "text": [
            "Index of 'cat': 1\n"
          ]
        }
      ]
    },
    {
      "cell_type": "markdown",
      "source": [
        "15. Write a code to create a tuple containing three different fruits and check if \"kiwi\" is in it."
      ],
      "metadata": {
        "id": "nu-YHLIK53_2"
      }
    },
    {
      "cell_type": "code",
      "source": [
        "# 15\n",
        "fruits = (\"apple\", \"banana\", \"mango\")\n",
        "\n",
        "# Check if \"kiwi\" is in the tuple\n",
        "if \"kiwi\" in fruits:\n",
        "    print(\"Kiwi is in the tuple\")\n",
        "else:\n",
        "    print(\"Kiwi is not in the tuple\")"
      ],
      "metadata": {
        "id": "bvOOGiUXG6_z",
        "colab": {
          "base_uri": "https://localhost:8080/"
        },
        "outputId": "e1f0cebf-fc7b-4748-b651-b5da52faf303"
      },
      "execution_count": null,
      "outputs": [
        {
          "output_type": "stream",
          "name": "stdout",
          "text": [
            "Kiwi is not in the tuple\n"
          ]
        }
      ]
    },
    {
      "cell_type": "markdown",
      "source": [
        "16. Write a code to create a set with the elements 'a', 'b', 'c' and print it."
      ],
      "metadata": {
        "id": "wwINF3_y54q6"
      }
    },
    {
      "cell_type": "code",
      "source": [
        "# 16\n",
        "letters = {'a', 'b', 'c'}\n",
        "\n",
        "# Print the set\n",
        "print(letters)"
      ],
      "metadata": {
        "id": "TLJI1-DsG680",
        "colab": {
          "base_uri": "https://localhost:8080/"
        },
        "outputId": "9e5a2f28-a3c8-4811-8fe0-5fdc6aae4c21"
      },
      "execution_count": null,
      "outputs": [
        {
          "output_type": "stream",
          "name": "stdout",
          "text": [
            "{'a', 'b', 'c'}\n"
          ]
        }
      ]
    },
    {
      "cell_type": "markdown",
      "source": [
        "17. Write a code to clear all elements from the set {1, 2, 3, 4, 5}."
      ],
      "metadata": {
        "id": "1Mtv_V3G56qd"
      }
    },
    {
      "cell_type": "code",
      "source": [
        "# 17\n",
        "# Create a set\n",
        "numbers = {1, 2, 3, 4, 5}\n",
        "\n",
        "# Clear all elements from the set\n",
        "numbers.clear()\n",
        "\n",
        "# Print the cleared set\n",
        "print(numbers)"
      ],
      "metadata": {
        "id": "StU3KR67G656",
        "colab": {
          "base_uri": "https://localhost:8080/"
        },
        "outputId": "40bf8647-ea95-4058-b37d-d7b08fe215f2"
      },
      "execution_count": null,
      "outputs": [
        {
          "output_type": "stream",
          "name": "stdout",
          "text": [
            "set()\n"
          ]
        }
      ]
    },
    {
      "cell_type": "markdown",
      "source": [
        "18. Write a code to remove the element 4 from the set {1, 2, 3, 4}."
      ],
      "metadata": {
        "id": "ijvxPjFg57P7"
      }
    },
    {
      "cell_type": "code",
      "source": [
        "# 18\n",
        "numbers = {1, 2, 3, 4}\n",
        "\n",
        "# Remove the element 4\n",
        "numbers.remove(4)\n",
        "\n",
        "# Print the updated set\n",
        "print(numbers)"
      ],
      "metadata": {
        "id": "qpGYy2NVG63X",
        "colab": {
          "base_uri": "https://localhost:8080/"
        },
        "outputId": "4b819509-aa28-4af5-d95a-3d30ba9d5e8d"
      },
      "execution_count": null,
      "outputs": [
        {
          "output_type": "stream",
          "name": "stdout",
          "text": [
            "{1, 2, 3}\n"
          ]
        }
      ]
    },
    {
      "cell_type": "markdown",
      "source": [
        "19. Write a code to find the union of two sets {1, 2, 3} and {3, 4, 5}."
      ],
      "metadata": {
        "id": "mxFImzxR58Lc"
      }
    },
    {
      "cell_type": "code",
      "source": [
        "# 19\n",
        "set1 = {1, 2, 3}\n",
        "set2 = {3, 4, 5}\n",
        "\n",
        "# Find the union of the two sets\n",
        "union_set = set1.union(set2)\n",
        "\n",
        "# Print the result\n",
        "print(\"Union:\", union_set)"
      ],
      "metadata": {
        "id": "ksyZj3s-G6pt",
        "colab": {
          "base_uri": "https://localhost:8080/"
        },
        "outputId": "d8dd8c8c-0eef-4b6f-de80-50e68646be13"
      },
      "execution_count": null,
      "outputs": [
        {
          "output_type": "stream",
          "name": "stdout",
          "text": [
            "Union: {1, 2, 3, 4, 5}\n"
          ]
        }
      ]
    },
    {
      "cell_type": "markdown",
      "source": [
        "20. Write a code to find the intersection of two sets {1, 2, 3} and {2, 3, 4}."
      ],
      "metadata": {
        "id": "aBEIBBXD583Q"
      }
    },
    {
      "cell_type": "code",
      "source": [
        "# 20\n",
        "set1 = {1, 2, 3}\n",
        "set2 = {2, 3, 4}\n",
        "\n",
        "# Find the intersection of the two sets\n",
        "intersection_set = set1.intersection(set2)\n",
        "\n",
        "# Print the result\n",
        "print(\"Intersection:\", intersection_set)"
      ],
      "metadata": {
        "colab": {
          "base_uri": "https://localhost:8080/"
        },
        "id": "7qoGVU2daq9F",
        "outputId": "1cb80e77-b3c7-43bc-b73c-ffedb784deb6"
      },
      "execution_count": null,
      "outputs": [
        {
          "output_type": "stream",
          "name": "stdout",
          "text": [
            "Intersection: {2, 3}\n"
          ]
        }
      ]
    },
    {
      "cell_type": "markdown",
      "source": [
        "21. Write a code to create a dictionary with the keys \"name\", \"age\", and \"city\", and print it."
      ],
      "metadata": {
        "id": "niUk6FJ28ZEY"
      }
    },
    {
      "cell_type": "code",
      "source": [
        "# 21\n",
        "person = {\n",
        "    \"name\": \"Akash\",\n",
        "    \"age\": 30,\n",
        "    \"city\": \"Delhi\"\n",
        "}\n",
        "\n",
        "# Print the dictionary\n",
        "print(person)"
      ],
      "metadata": {
        "colab": {
          "base_uri": "https://localhost:8080/"
        },
        "id": "siYjyp_Yaq7O",
        "outputId": "1b2b4b05-3546-4c27-f43f-b9a7da6f7406"
      },
      "execution_count": null,
      "outputs": [
        {
          "output_type": "stream",
          "name": "stdout",
          "text": [
            "{'name': 'Akash', 'age': 30, 'city': 'Delhi'}\n"
          ]
        }
      ]
    },
    {
      "cell_type": "markdown",
      "source": [
        "22. Write a code to add a new key-value pair \"country\": \"USA\" to the dictionary {'name': 'John', 'age': 25}."
      ],
      "metadata": {
        "id": "_XfTFCoJ8cbK"
      }
    },
    {
      "cell_type": "code",
      "source": [
        "# 22\n",
        "# Original dictionary\n",
        "person = {'name': 'John', 'age': 25}\n",
        "\n",
        "# Add a new key-value pair\n",
        "person['country'] = 'USA'\n",
        "\n",
        "# Print the updated dictionary\n",
        "print(person)"
      ],
      "metadata": {
        "colab": {
          "base_uri": "https://localhost:8080/"
        },
        "id": "0HgZUTgUaq4J",
        "outputId": "55d172c9-8a7c-48d5-fbb8-9f08c0c645f2"
      },
      "execution_count": null,
      "outputs": [
        {
          "output_type": "stream",
          "name": "stdout",
          "text": [
            "{'name': 'John', 'age': 25, 'country': 'USA'}\n"
          ]
        }
      ]
    },
    {
      "cell_type": "markdown",
      "source": [
        "23. Write a code to access the value associated with the key \"name\" in the dictionary {'name': 'Alice', 'age': 30}."
      ],
      "metadata": {
        "id": "fr-8UVs_8gt1"
      }
    },
    {
      "cell_type": "code",
      "source": [
        "# 23.\n",
        "person = {'name': 'Alice', 'age': 30}\n",
        "\n",
        "# Access the value associated with the key \"name\"\n",
        "name_value = person['name']\n",
        "\n",
        "# Print the result\n",
        "print(\"Name:\", name_value)"
      ],
      "metadata": {
        "colab": {
          "base_uri": "https://localhost:8080/"
        },
        "id": "-yHUj_a1aq2b",
        "outputId": "58f01826-fcd3-4bbd-db38-71cea3b38527"
      },
      "execution_count": null,
      "outputs": [
        {
          "output_type": "stream",
          "name": "stdout",
          "text": [
            "Name: Alice\n"
          ]
        }
      ]
    },
    {
      "cell_type": "markdown",
      "source": [
        "24. Write a code to remove the key \"age\" from the dictionary {'name': 'Bob', 'age': 22, 'city': 'New York'}."
      ],
      "metadata": {
        "id": "FGg45RpL8j3J"
      }
    },
    {
      "cell_type": "markdown",
      "source": [
        "25. Write a code to check if the key \"city\" exists in the dictionary {'name': 'Alice', 'city': 'Paris'}."
      ],
      "metadata": {
        "id": "v294jZY78lqa"
      }
    },
    {
      "cell_type": "markdown",
      "source": [
        "26. Write a code to create a list, a tuple, and a dictionary, and print them all."
      ],
      "metadata": {
        "id": "xRb878uU8nTC"
      }
    },
    {
      "cell_type": "code",
      "source": [
        "# 24\n",
        "# Original dictionary\n",
        "person = {'name': 'Bob', 'age': 22, 'city': 'New York'}\n",
        "\n",
        "# Remove the key \"age\"\n",
        "person.pop('age')\n",
        "\n",
        "# Print the updated dictionary\n",
        "print(person)"
      ],
      "metadata": {
        "colab": {
          "base_uri": "https://localhost:8080/"
        },
        "id": "nh2gISFnaqyn",
        "outputId": "f77c9da1-fbd9-4dc0-9f86-2d5da7be1010"
      },
      "execution_count": null,
      "outputs": [
        {
          "output_type": "stream",
          "name": "stdout",
          "text": [
            "{'name': 'Bob', 'city': 'New York'}\n"
          ]
        }
      ]
    },
    {
      "cell_type": "markdown",
      "source": [
        "25. Write a code to check if the key \"city\" exists in the dictionary {'name': 'Alice', 'city': 'Paris'}."
      ],
      "metadata": {
        "id": "5dEzqUs-8xpp"
      }
    },
    {
      "cell_type": "code",
      "source": [
        "# 25\n",
        "# Create the dictionary\n",
        "person = {'name': 'Alice', 'city': 'Paris'}\n",
        "\n",
        "# Check if the key \"city\" exists\n",
        "if 'city' in person:\n",
        "    print(\"Key 'city' exists in the dictionary\")\n",
        "else:\n",
        "    print(\"Key 'city' does not exist in the dictionary\")"
      ],
      "metadata": {
        "colab": {
          "base_uri": "https://localhost:8080/"
        },
        "id": "7MJJKvR7aqvJ",
        "outputId": "0b68972f-c79e-4fd0-9fb4-2d3e2874cb6f"
      },
      "execution_count": null,
      "outputs": [
        {
          "output_type": "stream",
          "name": "stdout",
          "text": [
            "Key 'city' exists in the dictionary\n"
          ]
        }
      ]
    },
    {
      "cell_type": "markdown",
      "source": [
        "26. Write a code to create a list, a tuple, and a dictionary, and print them all."
      ],
      "metadata": {
        "id": "5pgTe8L980MU"
      }
    },
    {
      "cell_type": "code",
      "source": [
        "# 26\n",
        "# Create a list\n",
        "my_list = [1, 2, 3]\n",
        "\n",
        "# Create a tuple\n",
        "my_tuple = (4, 5, 6)\n",
        "\n",
        "# Create a dictionary\n",
        "my_dict = {\"name\": \"Alice\", \"age\": 25}\n",
        "\n",
        "# Print all\n",
        "print(\"List:\", my_list)\n",
        "print(\"Tuple:\", my_tuple)\n",
        "print(\"Dictionary:\", my_dict)"
      ],
      "metadata": {
        "colab": {
          "base_uri": "https://localhost:8080/"
        },
        "id": "GajHmxwdaqtb",
        "outputId": "7c733ce1-0e45-4a55-db0e-17e60c37c77c"
      },
      "execution_count": null,
      "outputs": [
        {
          "output_type": "stream",
          "name": "stdout",
          "text": [
            "List: [1, 2, 3]\n",
            "Tuple: (4, 5, 6)\n",
            "Dictionary: {'name': 'Alice', 'age': 25}\n"
          ]
        }
      ]
    },
    {
      "cell_type": "markdown",
      "source": [
        "27. Write a code to create a list of 5 random numbers between 1 and 100, sort it in ascending order, and print the result.(replaced)"
      ],
      "metadata": {
        "id": "irfJqipw8tn6"
      }
    },
    {
      "cell_type": "code",
      "source": [
        "# 27\n",
        "import random\n",
        "\n",
        "# Create a list of 5 random numbers between 1 and 100\n",
        "random_numbers = [random.randint(1, 100) for _ in range(5)]\n",
        "\n",
        "# Sort the list in ascending order\n",
        "random_numbers.sort()\n",
        "\n",
        "# Print the sorted list\n",
        "print(\"Sorted random numbers:\", random_numbers)"
      ],
      "metadata": {
        "colab": {
          "base_uri": "https://localhost:8080/"
        },
        "id": "f-vTPLfoaqrZ",
        "outputId": "c97bcbb8-1dc9-41b9-a1d3-095dbe273ca6"
      },
      "execution_count": null,
      "outputs": [
        {
          "output_type": "stream",
          "name": "stdout",
          "text": [
            "Sorted random numbers: [12, 20, 26, 27, 46]\n"
          ]
        }
      ]
    },
    {
      "cell_type": "markdown",
      "source": [
        "28. Write a code to create a list with strings and print the element at the third index."
      ],
      "metadata": {
        "id": "fQs5wwXh87ne"
      }
    },
    {
      "cell_type": "code",
      "source": [
        "# 28\n",
        "# Create a list of strings\n",
        "fruits = [\"apple\", \"banana\", \"cherry\", \"date\", \"mango\"]\n",
        "\n",
        "# Access and print the element at the third index\n",
        "print(\"Element at index 3:\", fruits[3])"
      ],
      "metadata": {
        "colab": {
          "base_uri": "https://localhost:8080/"
        },
        "id": "rbxg2xqHaqoG",
        "outputId": "5d52138c-ea9f-4c55-a579-7d501f788568"
      },
      "execution_count": null,
      "outputs": [
        {
          "output_type": "stream",
          "name": "stdout",
          "text": [
            "Element at index 3: date\n"
          ]
        }
      ]
    },
    {
      "cell_type": "markdown",
      "source": [
        "29. Write a code to combine two dictionaries into one and print the result."
      ],
      "metadata": {
        "id": "mS3owuma89uB"
      }
    },
    {
      "cell_type": "code",
      "source": [
        "# 29\n",
        "# Create two dictionaries\n",
        "dict1 = {\"a\": 1, \"b\": 2}\n",
        "dict2 = {\"c\": 3, \"d\": 4}\n",
        "\n",
        "# Combine the dictionaries\n",
        "combined_dict = {**dict1, **dict2}\n",
        "\n",
        "# Print the result\n",
        "print(\"Combined dictionary:\", combined_dict)"
      ],
      "metadata": {
        "colab": {
          "base_uri": "https://localhost:8080/"
        },
        "id": "oYHSOYjXaqjn",
        "outputId": "66499d61-7ddb-4cd9-90e9-e14bd1556fd3"
      },
      "execution_count": null,
      "outputs": [
        {
          "output_type": "stream",
          "name": "stdout",
          "text": [
            "Combined dictionary: {'a': 1, 'b': 2, 'c': 3, 'd': 4}\n"
          ]
        }
      ]
    },
    {
      "cell_type": "markdown",
      "source": [
        "30. Write a code to convert a list of strings into a set."
      ],
      "metadata": {
        "id": "czyq5p9q8_Ox"
      }
    },
    {
      "cell_type": "code",
      "source": [
        "# 30\n",
        "# Create a list of strings\n",
        "fruits_list = [\"apple\", \"banana\", \"apple\", \"mango\"]\n",
        "\n",
        "# Convert the list into a set\n",
        "fruits_set = set(fruits_list)\n",
        "\n",
        "# Print the result\n",
        "print(\"Set:\", fruits_set)"
      ],
      "metadata": {
        "colab": {
          "base_uri": "https://localhost:8080/"
        },
        "id": "Ua50nFUUaqeo",
        "outputId": "80912e03-1f62-44ab-defd-31ff8fc388b4"
      },
      "execution_count": null,
      "outputs": [
        {
          "output_type": "stream",
          "name": "stdout",
          "text": [
            "Set: {'mango', 'banana', 'apple'}\n"
          ]
        }
      ]
    }
  ]
}