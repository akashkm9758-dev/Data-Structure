{
  "nbformat": 4,
  "nbformat_minor": 0,
  "metadata": {
    "colab": {
      "provenance": []
    },
    "kernelspec": {
      "name": "python3",
      "display_name": "Python 3"
    },
    "language_info": {
      "name": "python"
    }
  },
  "cells": [
    {
      "cell_type": "markdown",
      "source": [
        "\n",
        "# **Practical Assignment**\n",
        "\n"
      ],
      "metadata": {
        "id": "Ag3mzQA-1hO7"
      }
    },
    {
      "cell_type": "markdown",
      "source": [
        "1. Write a code to create a string with your name and print it?"
      ],
      "metadata": {
        "id": "D8CNGwYl43AR"
      }
    },
    {
      "cell_type": "code",
      "source": [
        "name = input(\"enter the name: \")\n",
        "print(name)"
      ],
      "metadata": {
        "id": "tB2vsFEmG5SW",
        "colab": {
          "base_uri": "https://localhost:8080/"
        },
        "outputId": "74a1fa43-8ebd-4567-9f51-475877927411"
      },
      "execution_count": 25,
      "outputs": [
        {
          "output_type": "stream",
          "name": "stdout",
          "text": [
            "enter the name: akash\n",
            "akash\n"
          ]
        }
      ]
    },
    {
      "cell_type": "markdown",
      "source": [
        "2. Write a code to find the length of the string \"Hello World\"?"
      ],
      "metadata": {
        "id": "M0SXBrZi5hJ2"
      }
    },
    {
      "cell_type": "code",
      "source": [
        "text = \"Hello World\"\n",
        "a = len(text)\n",
        "print(\"Length of the string:\", a)"
      ],
      "metadata": {
        "id": "9QWhMLAvG7kj",
        "colab": {
          "base_uri": "https://localhost:8080/"
        },
        "outputId": "b240462c-b4dd-4911-e032-ac8078fa586c"
      },
      "execution_count": 26,
      "outputs": [
        {
          "output_type": "stream",
          "name": "stdout",
          "text": [
            "Length of the string: 11\n"
          ]
        }
      ]
    },
    {
      "cell_type": "markdown",
      "source": [
        "3. Write a code to slice the first 3 characters from the string \"Python Programming\"?"
      ],
      "metadata": {
        "id": "XiYXCsX05iIl"
      }
    },
    {
      "cell_type": "code",
      "source": [
        "text = \"Python Programming\"\n",
        "a = text[:3]\n",
        "print(\"First 3 characters:\",a)"
      ],
      "metadata": {
        "id": "TVg2M3aSG7hJ",
        "colab": {
          "base_uri": "https://localhost:8080/"
        },
        "outputId": "2945736a-fd4e-4ced-b286-5bfd059fd797"
      },
      "execution_count": 27,
      "outputs": [
        {
          "output_type": "stream",
          "name": "stdout",
          "text": [
            "First 3 characters: Pyt\n"
          ]
        }
      ]
    },
    {
      "cell_type": "markdown",
      "source": [
        "4. Write a code to convert the string \"hello\" to uppercase?"
      ],
      "metadata": {
        "id": "c-iJyxHx5uo1"
      }
    },
    {
      "cell_type": "code",
      "source": [
        "a = \"hello\"\n",
        "uppercase = a.upper()\n",
        "print('''Uppercase \"hello\" :''', uppercase)"
      ],
      "metadata": {
        "id": "nRp05zkvG7eW",
        "colab": {
          "base_uri": "https://localhost:8080/"
        },
        "outputId": "70e73dc3-694a-4375-b4b6-5b342cfdb476"
      },
      "execution_count": 28,
      "outputs": [
        {
          "output_type": "stream",
          "name": "stdout",
          "text": [
            "Uppercase \"hello\" : HELLO\n"
          ]
        }
      ]
    },
    {
      "cell_type": "markdown",
      "source": [
        "5. Write a code to replace the word \"apple\" with \"orange\" in the string \"I like apple\"?"
      ],
      "metadata": {
        "id": "u5JE9AAG5vgF"
      }
    },
    {
      "cell_type": "code",
      "source": [
        "a = \"I like apple\"\n",
        "b = a.replace(\"apple\", \"orange\")\n",
        "print(b)"
      ],
      "metadata": {
        "id": "_XQkxLclG7bK",
        "colab": {
          "base_uri": "https://localhost:8080/"
        },
        "outputId": "6e6eb2c3-51d9-4a03-e324-2c565d2aa33c"
      },
      "execution_count": 29,
      "outputs": [
        {
          "output_type": "stream",
          "name": "stdout",
          "text": [
            "I like orange\n"
          ]
        }
      ]
    },
    {
      "cell_type": "markdown",
      "source": [
        "6. Write a code to create a list with numbers 1 to 5 and print it?"
      ],
      "metadata": {
        "id": "L8WM0Y0p5wHC"
      }
    },
    {
      "cell_type": "code",
      "source": [
        "a = [1, 2, 3, 4, 5]\n",
        "print(a)"
      ],
      "metadata": {
        "id": "kjV-4BhlG7Yr",
        "colab": {
          "base_uri": "https://localhost:8080/"
        },
        "outputId": "f35c1141-2087-4c4d-dfa6-f54884c28294"
      },
      "execution_count": 30,
      "outputs": [
        {
          "output_type": "stream",
          "name": "stdout",
          "text": [
            "[1, 2, 3, 4, 5]\n"
          ]
        }
      ]
    },
    {
      "cell_type": "markdown",
      "source": [
        "7. Write a code to append the number 10 to the list [1, 2, 3, 4]?"
      ],
      "metadata": {
        "id": "1XadmKza5xMh"
      }
    },
    {
      "cell_type": "code",
      "source": [
        "b = [1, 2, 3, 4]\n",
        "b.append(10)\n",
        "print(b)"
      ],
      "metadata": {
        "id": "p74gjQYyG7WG",
        "colab": {
          "base_uri": "https://localhost:8080/"
        },
        "outputId": "ca78e6e3-d267-402d-e788-d9fbbc64c763"
      },
      "execution_count": 31,
      "outputs": [
        {
          "output_type": "stream",
          "name": "stdout",
          "text": [
            "[1, 2, 3, 4, 10]\n"
          ]
        }
      ]
    },
    {
      "cell_type": "markdown",
      "source": [
        "8. Write a code to remove the number 3 from the list [1, 2, 3, 4, 5]?"
      ],
      "metadata": {
        "id": "DiVVdq0k5xvM"
      }
    },
    {
      "cell_type": "code",
      "source": [
        "b = [1, 2, 3, 4, 5]\n",
        "b.remove(3)\n",
        "print(b)"
      ],
      "metadata": {
        "id": "qToipFknG7Ta",
        "colab": {
          "base_uri": "https://localhost:8080/"
        },
        "outputId": "ba4a4284-5ea1-4331-816b-5dcbd2d6c982"
      },
      "execution_count": 32,
      "outputs": [
        {
          "output_type": "stream",
          "name": "stdout",
          "text": [
            "[1, 2, 4, 5]\n"
          ]
        }
      ]
    },
    {
      "cell_type": "markdown",
      "source": [
        "9. Write a code to access the second element in the list ['a', 'b', 'c', 'd']?"
      ],
      "metadata": {
        "id": "FDUGENcY5yiY"
      }
    },
    {
      "cell_type": "code",
      "source": [
        "list1= ['a', 'b', 'c', 'd']\n",
        "print(list1[1])"
      ],
      "metadata": {
        "id": "sbC9BpCvG7Qr",
        "colab": {
          "base_uri": "https://localhost:8080/"
        },
        "outputId": "0c2fdcb6-52f3-4352-fda6-c7fc0635eb62"
      },
      "execution_count": 33,
      "outputs": [
        {
          "output_type": "stream",
          "name": "stdout",
          "text": [
            "b\n"
          ]
        }
      ]
    },
    {
      "cell_type": "markdown",
      "source": [
        "10. Write a code to reverse the list [10, 20, 30, 40, 50]?"
      ],
      "metadata": {
        "id": "EydkI3J150hB"
      }
    },
    {
      "cell_type": "code",
      "source": [
        "number = [10, 20, 30, 40, 50]\n",
        "number.reverse()\n",
        "print(number)"
      ],
      "metadata": {
        "id": "Q41qCVwiG7NU",
        "colab": {
          "base_uri": "https://localhost:8080/"
        },
        "outputId": "bc5ce8c3-6141-4ac3-fab1-d43aeda1c6f7"
      },
      "execution_count": 34,
      "outputs": [
        {
          "output_type": "stream",
          "name": "stdout",
          "text": [
            "[50, 40, 30, 20, 10]\n"
          ]
        }
      ]
    },
    {
      "cell_type": "markdown",
      "source": [
        "11. Write a code to create a tuple with the elements 100, 200, 300 and print it."
      ],
      "metadata": {
        "id": "pYnFLnJV51LB"
      }
    },
    {
      "cell_type": "code",
      "source": [
        "numbers = (100, 200, 300)\n",
        "print(numbers)"
      ],
      "metadata": {
        "id": "Vqn7B3YpG7Kg",
        "colab": {
          "base_uri": "https://localhost:8080/"
        },
        "outputId": "75bafc53-e60e-4f7e-efe7-59e6e8a30529"
      },
      "execution_count": 35,
      "outputs": [
        {
          "output_type": "stream",
          "name": "stdout",
          "text": [
            "(100, 200, 300)\n"
          ]
        }
      ]
    },
    {
      "cell_type": "markdown",
      "source": [
        "12. Write a code to access the second-to-last element of the tuple ('red', 'green', 'blue', 'yellow')."
      ],
      "metadata": {
        "id": "qv889L7752BX"
      }
    },
    {
      "cell_type": "code",
      "source": [
        "color = ('red', 'green', 'blue', 'yellow')\n",
        "second_last_element = color[-2]\n",
        "print(second_last_element)"
      ],
      "metadata": {
        "id": "ERSZ7P8-G7Hy",
        "colab": {
          "base_uri": "https://localhost:8080/"
        },
        "outputId": "bf4e4412-85ca-4108-ea16-61a0c0d1f7cc"
      },
      "execution_count": 36,
      "outputs": [
        {
          "output_type": "stream",
          "name": "stdout",
          "text": [
            "blue\n"
          ]
        }
      ]
    },
    {
      "cell_type": "markdown",
      "source": [
        "13. Write a code to find the minimum number in the tuple (10, 20, 5, 15)."
      ],
      "metadata": {
        "id": "qk_5QIXi52zE"
      }
    },
    {
      "cell_type": "code",
      "source": [
        "num_numbers = (10, 20, 5, 15)\n",
        "minimum_value = min(num_numbers)\n",
        "print(\"Minimum number:\", minimum_value)"
      ],
      "metadata": {
        "id": "a9YP1556G7D6",
        "colab": {
          "base_uri": "https://localhost:8080/",
          "height": 176
        },
        "outputId": "8d684976-44fa-4ff3-f30c-11279dfbdec4"
      },
      "execution_count": 68,
      "outputs": [
        {
          "output_type": "error",
          "ename": "TypeError",
          "evalue": "'int' object is not callable",
          "traceback": [
            "\u001b[0;31m---------------------------------------------------------------------------\u001b[0m",
            "\u001b[0;31mTypeError\u001b[0m                                 Traceback (most recent call last)",
            "\u001b[0;32m/tmp/ipython-input-1289620733.py\u001b[0m in \u001b[0;36m<cell line: 0>\u001b[0;34m()\u001b[0m\n\u001b[1;32m      1\u001b[0m \u001b[0mnum_numbers\u001b[0m \u001b[0;34m=\u001b[0m \u001b[0;34m(\u001b[0m\u001b[0;36m10\u001b[0m\u001b[0;34m,\u001b[0m \u001b[0;36m20\u001b[0m\u001b[0;34m,\u001b[0m \u001b[0;36m5\u001b[0m\u001b[0;34m,\u001b[0m \u001b[0;36m15\u001b[0m\u001b[0;34m)\u001b[0m\u001b[0;34m\u001b[0m\u001b[0;34m\u001b[0m\u001b[0m\n\u001b[0;32m----> 2\u001b[0;31m \u001b[0mminimum_value\u001b[0m \u001b[0;34m=\u001b[0m \u001b[0mmin\u001b[0m\u001b[0;34m(\u001b[0m\u001b[0mnum_numbers\u001b[0m\u001b[0;34m)\u001b[0m\u001b[0;34m\u001b[0m\u001b[0;34m\u001b[0m\u001b[0m\n\u001b[0m\u001b[1;32m      3\u001b[0m \u001b[0mprint\u001b[0m\u001b[0;34m(\u001b[0m\u001b[0;34m\"Minimum number:\"\u001b[0m\u001b[0;34m,\u001b[0m \u001b[0mminimum_value\u001b[0m\u001b[0;34m)\u001b[0m\u001b[0;34m\u001b[0m\u001b[0;34m\u001b[0m\u001b[0m\n",
            "\u001b[0;31mTypeError\u001b[0m: 'int' object is not callable"
          ]
        }
      ]
    },
    {
      "cell_type": "markdown",
      "source": [
        "14. Write a code to find the index of the element \"cat\" in the tuple ('dog', 'cat', 'rabbit')."
      ],
      "metadata": {
        "id": "5a1_G1R153dT"
      }
    },
    {
      "cell_type": "code",
      "source": [
        "animals = ('dog', 'cat', 'rabbit')\n",
        "cat = animals.index('cat')\n",
        "print(\"Index of 'cat':\", cat)"
      ],
      "metadata": {
        "id": "6SBBjW6dG7B3",
        "colab": {
          "base_uri": "https://localhost:8080/"
        },
        "outputId": "59b5ab85-7e47-444b-b4ac-60a3e8847752"
      },
      "execution_count": 64,
      "outputs": [
        {
          "output_type": "stream",
          "name": "stdout",
          "text": [
            "Index of 'cat': 1\n"
          ]
        }
      ]
    },
    {
      "cell_type": "markdown",
      "source": [
        "15. Write a code to create a tuple containing three different fruits and check if \"kiwi\" is in it."
      ],
      "metadata": {
        "id": "nu-YHLIK53_2"
      }
    },
    {
      "cell_type": "code",
      "source": [
        "fruits = (\"apple\", \"banana\", \"mango\")\n",
        "if \"kiwi\" in fruits:\n",
        "    print(\"Kiwi is in the tuple\")\n",
        "else:\n",
        "    print(\"Kiwi is not in the tuple\")"
      ],
      "metadata": {
        "id": "bvOOGiUXG6_z",
        "colab": {
          "base_uri": "https://localhost:8080/"
        },
        "outputId": "7d2e92e5-5d4d-468b-f99c-dcb74c548d2f"
      },
      "execution_count": 65,
      "outputs": [
        {
          "output_type": "stream",
          "name": "stdout",
          "text": [
            "Kiwi is not in the tuple\n"
          ]
        }
      ]
    },
    {
      "cell_type": "markdown",
      "source": [
        "16. Write a code to create a set with the elements 'a', 'b', 'c' and print it."
      ],
      "metadata": {
        "id": "wwINF3_y54q6"
      }
    },
    {
      "cell_type": "code",
      "source": [
        "letters = {'a', 'b', 'c'}\n",
        "print(letters)"
      ],
      "metadata": {
        "id": "TLJI1-DsG680",
        "colab": {
          "base_uri": "https://localhost:8080/"
        },
        "outputId": "52708200-3794-4519-9a3d-f99273c97800"
      },
      "execution_count": 69,
      "outputs": [
        {
          "output_type": "stream",
          "name": "stdout",
          "text": [
            "{'a', 'c', 'b'}\n"
          ]
        }
      ]
    },
    {
      "cell_type": "markdown",
      "source": [
        "17. Write a code to clear all elements from the set {1, 2, 3, 4, 5}."
      ],
      "metadata": {
        "id": "1Mtv_V3G56qd"
      }
    },
    {
      "cell_type": "code",
      "source": [
        "numbers = {1, 2, 3, 4, 5}\n",
        "numbers.clear()\n",
        "print(numbers)"
      ],
      "metadata": {
        "id": "StU3KR67G656",
        "colab": {
          "base_uri": "https://localhost:8080/"
        },
        "outputId": "63f5e0b3-e5e1-4e1c-e6a6-eab0cb9e643b"
      },
      "execution_count": 70,
      "outputs": [
        {
          "output_type": "stream",
          "name": "stdout",
          "text": [
            "set()\n"
          ]
        }
      ]
    },
    {
      "cell_type": "markdown",
      "source": [
        "18. Write a code to remove the element 4 from the set {1, 2, 3, 4}."
      ],
      "metadata": {
        "id": "ijvxPjFg57P7"
      }
    },
    {
      "cell_type": "code",
      "source": [
        "numbers = {1, 2, 3, 4}\n",
        "numbers.remove(4)\n",
        "print(numbers)"
      ],
      "metadata": {
        "id": "qpGYy2NVG63X"
      },
      "execution_count": null,
      "outputs": []
    },
    {
      "cell_type": "markdown",
      "source": [
        "19. Write a code to find the union of two sets {1, 2, 3} and {3, 4, 5}."
      ],
      "metadata": {
        "id": "mxFImzxR58Lc"
      }
    },
    {
      "cell_type": "code",
      "source": [
        "set1 = {1, 2, 3}\n",
        "set2 = {3, 4, 5}\n",
        "union_set = set1|set2\n",
        "print(\"Union:\", union_set)"
      ],
      "metadata": {
        "id": "ksyZj3s-G6pt",
        "colab": {
          "base_uri": "https://localhost:8080/"
        },
        "outputId": "b0f643d9-e6ff-49ef-adf5-e12a870854e7"
      },
      "execution_count": 73,
      "outputs": [
        {
          "output_type": "stream",
          "name": "stdout",
          "text": [
            "Union: {1, 2, 3, 4, 5}\n"
          ]
        }
      ]
    },
    {
      "cell_type": "markdown",
      "source": [
        "20. Write a code to find the intersection of two sets {1, 2, 3} and {2, 3, 4}."
      ],
      "metadata": {
        "id": "aBEIBBXD583Q"
      }
    },
    {
      "cell_type": "code",
      "source": [
        "set1 = {1, 2, 3}\n",
        "set2 = {2, 3, 4}\n",
        "intersection_set = set1&set2\n",
        "print(\"Intersection:\", intersection_set)"
      ],
      "metadata": {
        "colab": {
          "base_uri": "https://localhost:8080/"
        },
        "id": "7qoGVU2daq9F",
        "outputId": "15ea7265-ebac-4f91-c2b1-1bf0f44ee482"
      },
      "execution_count": 76,
      "outputs": [
        {
          "output_type": "stream",
          "name": "stdout",
          "text": [
            "Intersection: {2, 3}\n"
          ]
        }
      ]
    },
    {
      "cell_type": "markdown",
      "source": [
        "21. Write a code to create a dictionary with the keys \"name\", \"age\", and \"city\", and print it."
      ],
      "metadata": {
        "id": "niUk6FJ28ZEY"
      }
    },
    {
      "cell_type": "code",
      "source": [
        "person = {\n",
        "    \"name\": \"Akash\",\n",
        "    \"age\": 27,\n",
        "    \"city\": \"Delhi\"\n",
        "}\n",
        "print(person)"
      ],
      "metadata": {
        "colab": {
          "base_uri": "https://localhost:8080/"
        },
        "id": "siYjyp_Yaq7O",
        "outputId": "158b355b-6535-4ab2-910f-5f5d5472fddf"
      },
      "execution_count": 77,
      "outputs": [
        {
          "output_type": "stream",
          "name": "stdout",
          "text": [
            "{'name': 'Akash', 'age': 27, 'city': 'Delhi'}\n"
          ]
        }
      ]
    },
    {
      "cell_type": "markdown",
      "source": [
        "22. Write a code to add a new key-value pair \"country\": \"USA\" to the dictionary {'name': 'John', 'age': 25}."
      ],
      "metadata": {
        "id": "_XfTFCoJ8cbK"
      }
    },
    {
      "cell_type": "code",
      "source": [
        "person = {'name': 'John', 'age': 25}\n",
        "person['country'] = 'USA'\n",
        "print(person)"
      ],
      "metadata": {
        "colab": {
          "base_uri": "https://localhost:8080/"
        },
        "id": "0HgZUTgUaq4J",
        "outputId": "fbd150fd-a6b6-47ac-a9eb-1900dffd9ece"
      },
      "execution_count": 78,
      "outputs": [
        {
          "output_type": "stream",
          "name": "stdout",
          "text": [
            "{'name': 'John', 'age': 25, 'country': 'USA'}\n"
          ]
        }
      ]
    },
    {
      "cell_type": "markdown",
      "source": [
        "23. Write a code to access the value associated with the key \"name\" in the dictionary {'name': 'Alice', 'age': 30}."
      ],
      "metadata": {
        "id": "fr-8UVs_8gt1"
      }
    },
    {
      "cell_type": "code",
      "source": [
        "person = {'name': 'Alice', 'age': 30}\n",
        "name_value = person['name']\n",
        "print(\"Name:\", name_value)"
      ],
      "metadata": {
        "colab": {
          "base_uri": "https://localhost:8080/"
        },
        "id": "-yHUj_a1aq2b",
        "outputId": "10243e92-1406-4ed5-eec2-145855a6403d"
      },
      "execution_count": 79,
      "outputs": [
        {
          "output_type": "stream",
          "name": "stdout",
          "text": [
            "Name: Alice\n"
          ]
        }
      ]
    },
    {
      "cell_type": "markdown",
      "source": [
        "24. Write a code to remove the key \"age\" from the dictionary {'name': 'Bob', 'age': 22, 'city': 'New York'}."
      ],
      "metadata": {
        "id": "FGg45RpL8j3J"
      }
    },
    {
      "cell_type": "code",
      "source": [
        "person = {'name': 'Bob', 'age': 22, 'city': 'New York'}\n",
        "person.pop('age')\n",
        "print(person)"
      ],
      "metadata": {
        "id": "nh2gISFnaqyn"
      },
      "execution_count": null,
      "outputs": []
    },
    {
      "cell_type": "markdown",
      "source": [
        "25. Write a code to check if the key \"city\" exists in the dictionary {'name': 'Alice', 'city': 'Paris'}."
      ],
      "metadata": {
        "id": "5dEzqUs-8xpp"
      }
    },
    {
      "cell_type": "code",
      "source": [
        "person = {'name': 'Alice', 'city': 'Paris'}\n",
        "if 'city' in person:\n",
        "    print(\"Key 'city' exists in the dictionary\")\n",
        "else:\n",
        "    print(\"Key 'city' does not exist in the dictionary\")"
      ],
      "metadata": {
        "id": "7MJJKvR7aqvJ"
      },
      "execution_count": null,
      "outputs": []
    },
    {
      "cell_type": "markdown",
      "source": [
        "26. Write a code to create a list, a tuple, and a dictionary, and print them all."
      ],
      "metadata": {
        "id": "5pgTe8L980MU"
      }
    },
    {
      "cell_type": "code",
      "source": [
        "\n",
        "my_list = [1, 2, 3]\n",
        "my_tuple = (4, 5, 6)\n",
        "my_dict = {\"name\": \"Akash\", \"age\": 27}\n",
        "print(\"List:\", my_list)\n",
        "print(\"Tuple:\", my_tuple)\n",
        "print(\"Dictionary:\", my_dict)"
      ],
      "metadata": {
        "colab": {
          "base_uri": "https://localhost:8080/"
        },
        "id": "GajHmxwdaqtb",
        "outputId": "70a2f8a9-7dd2-43a9-ea66-f0e94295a327"
      },
      "execution_count": 80,
      "outputs": [
        {
          "output_type": "stream",
          "name": "stdout",
          "text": [
            "List: [1, 2, 3]\n",
            "Tuple: (4, 5, 6)\n",
            "Dictionary: {'name': 'Akash', 'age': 27}\n"
          ]
        }
      ]
    },
    {
      "cell_type": "markdown",
      "source": [
        "27. Write a code to create a list of 5 random numbers between 1 and 100, sort it in ascending order, and print the result.(replaced)"
      ],
      "metadata": {
        "id": "irfJqipw8tn6"
      }
    },
    {
      "cell_type": "code",
      "source": [
        "import random\n",
        "random_numbers = [random.randint(1, 100) for _ in range(5)]\n",
        "random_numbers.sort()\n",
        "print(\"Sorted random numbers:\", random_numbers)"
      ],
      "metadata": {
        "colab": {
          "base_uri": "https://localhost:8080/"
        },
        "id": "f-vTPLfoaqrZ",
        "outputId": "a7b932d5-5a12-42ed-f863-3f5f5f35673d"
      },
      "execution_count": 91,
      "outputs": [
        {
          "output_type": "stream",
          "name": "stdout",
          "text": [
            "Sorted random numbers: [57, 63, 66, 70, 100]\n"
          ]
        }
      ]
    },
    {
      "cell_type": "markdown",
      "source": [
        "28. Write a code to create a list with strings and print the element at the third index."
      ],
      "metadata": {
        "id": "fQs5wwXh87ne"
      }
    },
    {
      "cell_type": "code",
      "source": [
        "fruits = [\"apple\", \"banana\", \"cherry\", \"date\", \"mango\"]\n",
        "print(\"Element at index 3:\", fruits[3])"
      ],
      "metadata": {
        "colab": {
          "base_uri": "https://localhost:8080/"
        },
        "id": "rbxg2xqHaqoG",
        "outputId": "a4a301a4-2d12-4f44-b264-d945c723c98d"
      },
      "execution_count": 95,
      "outputs": [
        {
          "output_type": "stream",
          "name": "stdout",
          "text": [
            "Element at index 3: date\n"
          ]
        }
      ]
    },
    {
      "cell_type": "markdown",
      "source": [
        "29. Write a code to combine two dictionaries into one and print the result."
      ],
      "metadata": {
        "id": "mS3owuma89uB"
      }
    },
    {
      "cell_type": "code",
      "source": [
        "dict1 = {\"a\": 1, \"b\": 2}\n",
        "dict2 = {\"c\": 3, \"d\": 4}\n",
        "combined_dict = {**dict1, **dict2}\n",
        "print(\"Combined dictionary:\", combined_dict)"
      ],
      "metadata": {
        "colab": {
          "base_uri": "https://localhost:8080/"
        },
        "id": "oYHSOYjXaqjn",
        "outputId": "11742a68-e644-4569-fba5-beae8bd1aa68"
      },
      "execution_count": 96,
      "outputs": [
        {
          "output_type": "stream",
          "name": "stdout",
          "text": [
            "Combined dictionary: {'a': 1, 'b': 2, 'c': 3, 'd': 4}\n"
          ]
        }
      ]
    },
    {
      "cell_type": "markdown",
      "source": [
        "30. Write a code to convert a list of strings into a set."
      ],
      "metadata": {
        "id": "czyq5p9q8_Ox"
      }
    },
    {
      "cell_type": "code",
      "source": [
        "fruits_list = [\"apple\", \"banana\", \"apple\", \"mango\"]\n",
        "fruits_set = set(fruits_list)\n",
        "print(\"Set:\", fruits_set)"
      ],
      "metadata": {
        "colab": {
          "base_uri": "https://localhost:8080/"
        },
        "id": "Ua50nFUUaqeo",
        "outputId": "29484cf5-57d4-4ca6-c8b9-5c7a26e40016"
      },
      "execution_count": 97,
      "outputs": [
        {
          "output_type": "stream",
          "name": "stdout",
          "text": [
            "Set: {'banana', 'mango', 'apple'}\n"
          ]
        }
      ]
    }
  ]
}